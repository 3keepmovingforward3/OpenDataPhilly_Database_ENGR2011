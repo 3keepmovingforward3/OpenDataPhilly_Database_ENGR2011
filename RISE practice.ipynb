{
 "cells": [
  {
   "cell_type": "markdown",
   "metadata": {
    "slideshow": {
     "slide_type": "slide"
    }
   },
   "source": [
    "# BENJAMIN BLOUIN & CHRISTERPHER HUNTER\n",
    "## Interactive Crime-Data in Spatio-Temporal \n",
    "### Using Matlab, Python, and Jupyter Notebooks"
   ]
  },
  {
   "cell_type": "code",
   "execution_count": null,
   "metadata": {
    "scrolled": false,
    "slideshow": {
     "slide_type": "slide"
    }
   },
   "outputs": [],
   "source": [
    "#!/usr/bin/env python\n",
    "# coding: utf-8\n",
    "\n",
    "import urllib3.request, requests\n",
    "import simplejson as json\n",
    "import pandas as pd\n",
    "import mplleaflet\n",
    "import scipy\n",
    "import matlab.engine\n",
    "import numpy as np\n",
<<<<<<< HEAD
    "import seaborn as sns\n",
    "\n",
    "import warnings\n",
    "warnings.filterwarnings(\"ignore\")\n",
=======
    "import seaborn as sns",
>>>>>>> master
    "\n",
    "# Storing the url in a variable to be referenced later\n",
    "#\n",
    "url = \"https://phl.carto.com/api/v2/sql?q=\"\n",
    "\n",
    "# The radius of the crime from Pollete Walk\n",
    "#\n",
    "radius = 120  # in meters\n",
    "\n",
    "# SQL query to from the website where the data was pulled\n",
    "#\n",
    "query = \"SELECT * FROM incidents_part1_part2 WHERE \"\\\n",
    "\"ST_DWithin(the_geom::geography,ST_GeographyFromText('POINT(-75.155351200 39.981193500)'), \"+str(radius)+\")\"  # by gps coordinate\n",
    "\n",
    "# Using a DataScience library to cleanly gather data\n",
    "#\n",
    "df = pd.DataFrame(requests.get(url + query).json()['rows'])\n"
   ]
  },
  {
   "cell_type": "code",
   "execution_count": 19,
   "metadata": {
    "scrolled": true,
    "slideshow": {
     "slide_type": "subslide"
    }
   },
   "outputs": [],
   "source": [
    "# Using Python to Display crimes within a given radius\n",
    "#\n",
    "\n",
<<<<<<< HEAD
    "ax=sns.scatterplot(x=df.point_x, y=df.point_y)\n",
    "# Plot the data on an interactive zoomable map\n",
=======
    "sns.scatterplot(df.point_x, df.point_y, marker='o')\n",
    "# Plot the data on a live action zoomable map\n",
>>>>>>> master
    "#\n",
    "\n",
    "mplleaflet.show()"
   ]
  },
  {
   "cell_type": "code",
   "execution_count": null,
   "metadata": {
    "scrolled": true,
    "slideshow": {
     "slide_type": "slide"
    }
   },
   "outputs": [],
   "source": [
    "function doMyLinearRegression(x,y)\n",
    "%% Function to create scatter plot and hold for linear regression fit\n",
    "% Returns no values\n",
    "% Two vector arguments as inputs\n",
    "% Benjamin Blouin & Christerpher Hunter\n",
    "scatter(x,y,[],y)\n",
    "\n",
    "% Formatting\n",
    "xlim([0 23])\n",
    "xticks([0:1:23])\n",
    "xlabel('Hour of Day')\n",
    "ylabel('Number of Crimes')\n",
    "grid on\n",
    "grid minor\n",
    "hold on;\n",
    "\n",
    "% Calling linear regression line generator\n",
    "[line]=doMyLine(x,y);\n",
    "\n",
    "% Plot return from doMyLine function\n",
    "plot(x,line)\n",
    "\n",
    "end\n"
   ]
  },
  {
   "cell_type": "code",
   "execution_count": null,
   "metadata": {
    "scrolled": false,
    "slideshow": {
     "slide_type": "subslide"
    }
   },
   "outputs": [],
   "source": [
    "function [line] = doMyLine(x,y)\n",
    "%% Function that returns line of best fit for given data vectors\n",
    "% Benjamin Blouin and Christerpher Hunter\n",
    "\n",
    "% Same as mldivide\n",
    "% Solves the system of linear equations A*x = B. The matrices A and B must have the same number of rows.\n",
    "b = x\\y;\n",
    "\n",
    "% returns the coefficients for a polynomial p(x) of degree n \n",
    "% that is a best fit (in a least-squares sense) for the data in y.\n",
    "p = polyfit(x,y,1);\n",
    "\n",
    "% y = polyval(p,x) evaluates the polynomial p at each point in x.\n",
    "line = polyval(p,x);\n",
    "\n",
    "end\n"
   ]
  },
  {
   "cell_type": "code",
   "execution_count": null,
   "metadata": {
    "scrolled": false,
    "slideshow": {
     "slide_type": "slide"
    }
   },
   "outputs": [],
   "source": [
    "## Starts a new MATLAB process, and returns Python variable eng, \n",
    "## which is a MatlabEngine object for communicating with the MATLAB process.\n",
    "eng = matlab.engine.start_matlab()\n",
    "\n",
    "## Creating data arrays\n",
    "# Numpy linspace returns evenly spaced numbers over a specified interval\n",
    "x=np.linspace(0.0,23.0,num=24)\n",
    "\n",
    "# Pandas counts by unique grouping of \"hours\" key\n",
    "# Then takes the values of the objectid column and\n",
    "# Saves them to a list as floats\n",
    "b=df.groupby('hour_').count().objectid.values.astype(float).tolist()\n",
    "\n",
    "# MATLAB numeric arrays constructors\n",
    "a=matlab.single(x.tolist())\n",
    "b=matlab.single(b)\n",
    "\n",
    "# Matlab Engine Runs our Functions, expects no return values\n",
    "h=eng.doMyLinearRegression(a,b,nargout=0)\n"
   ]
  }
 ],
 "metadata": {
  "celltoolbar": "Slideshow",
  "kernelspec": {
   "display_name": "Python 3",
   "language": "python",
   "name": "python3"
  },
  "language_info": {
   "codemirror_mode": {
    "name": "ipython",
    "version": 3
   },
   "file_extension": ".py",
   "mimetype": "text/x-python",
   "name": "python",
   "nbconvert_exporter": "python",
   "pygments_lexer": "ipython3",
   "version": "3.7.3"
  }
 },
 "nbformat": 4,
 "nbformat_minor": 2
}
